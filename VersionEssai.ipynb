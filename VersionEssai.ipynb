{
 "cells": [
  {
   "cell_type": "code",
   "execution_count": 16,
   "metadata": {},
   "outputs": [
    {
     "name": "stdout",
     "output_type": "stream",
     "text": [
      "[101, 101, 101, 101, 101, 101, 101, 101, 101, 101, 101, 101, 101, 101, 101, 101, 101, 101, 101, 101, 101, 101, 101, 101, 101, 101, 101, 101, 101, 101, 101, 101, 101, 101, 101, 101, 101, 101, 101, 101, 101, 101, 101, 101, 101, 101, 101, 101, 101, 101, 101, 101, 101, 101, 101, 101, 101, 101, 101, 101, 101, 101, 101, 101, 101, 101, 101, 101, 101, 101, 101, 101, 101, 101, 101, 101, 101, 101, 101, 101, 101, 101, 101, 101, 101, 101, 101, 101, 101, 101, 101, 101, 101, 101, 101, 101, 101, 101, 101, 101]\n"
     ]
    }
   ],
   "source": [
    "liste1=[]\n",
    "for i in range(0,100):\n",
    "    liste1.append(i+1)\n",
    "#print(liste1)\n",
    "liste1.reverse()\n",
    "#print(liste1)\n",
    "liste2=[]\n",
    "for i in range(len(liste1)):\n",
    "    liste2.append(i+1)\n",
    "#print(liste2)\n",
    "liste3=[]\n",
    "for i in range(len(liste1)):\n",
    "    liste3.append(liste1[i]+liste2[i])\n",
    "print(liste3)\n",
    "\n",
    "    \n",
    "    \n",
    "    "
   ]
  },
  {
   "cell_type": "code",
   "execution_count": 25,
   "metadata": {},
   "outputs": [
    {
     "name": "stdout",
     "output_type": "stream",
     "text": [
      "(1, 2, 3, 4, 5)\n",
      "((1, 2, 3, 4, 5), ('toto', 'titi', 'tata', 'tutu', 'tete'))\n"
     ]
    }
   ],
   "source": [
    "t1 = 1,2,3,4,5\n",
    "print(t1)\n",
    "t2 = 'toto','titi','tata','tutu','tete'\n",
    "t3 = t1,t2\n",
    "print(t3)\n",
    "\n",
    "def fct_max(tuple):\n",
    "    \n",
    "\n",
    "\n"
   ]
  },
  {
   "cell_type": "code",
   "execution_count": null,
   "metadata": {},
   "outputs": [],
   "source": []
  }
 ],
 "metadata": {
  "kernelspec": {
   "display_name": "Python 3",
   "language": "python",
   "name": "python3"
  },
  "language_info": {
   "codemirror_mode": {
    "name": "ipython",
    "version": 3
   },
   "file_extension": ".py",
   "mimetype": "text/x-python",
   "name": "python",
   "nbconvert_exporter": "python",
   "pygments_lexer": "ipython3",
   "version": "3.8.3"
  }
 },
 "nbformat": 4,
 "nbformat_minor": 4
}
